{
 "cells": [
  {
   "cell_type": "code",
   "execution_count": 7,
   "id": "c71c2292",
   "metadata": {},
   "outputs": [],
   "source": [
    "import random\n",
    "#password generator\n",
    "letters = \"abcdefghijklmnopqrstuvwxyz\"\n",
    "numbers = \"1234567890\"\n",
    "symbol  = \"!@#$%^&*\"\n"
   ]
  },
  {
   "cell_type": "code",
   "execution_count": 10,
   "id": "433630bb",
   "metadata": {},
   "outputs": [
    {
     "name": "stdout",
     "output_type": "stream",
     "text": [
      "how many letters do you want in your password3\n",
      "how many numbers do you want in your password4\n",
      "how many symbol do you want in your password5\n"
     ]
    }
   ],
   "source": [
    "pass1=[]\n",
    "l = int(input(\"how many letters do you want in your password\"))\n",
    "n = int(input(\"how many numbers do you want in your password\"))\n",
    "s = int(input(\"how many symbol do you want in your password\"))\n",
    "\n",
    "for i in range(l):\n",
    "    pass1.append(random.choice(letters))\n",
    "for i in range(n):\n",
    "    pass1.append(random.choice(numbers))\n",
    "for i in range(s):\n",
    "    pass1.append(random.choice(symbol))"
   ]
  },
  {
   "cell_type": "code",
   "execution_count": 16,
   "id": "495d7d14",
   "metadata": {},
   "outputs": [
    {
     "data": {
      "text/plain": [
       "'@%#8t0v$3%1f'"
      ]
     },
     "execution_count": 16,
     "metadata": {},
     "output_type": "execute_result"
    }
   ],
   "source": [
    "random.shuffle(pass1)\n",
    "password = \"\".join(pass1)\n",
    "password"
   ]
  },
  {
   "cell_type": "code",
   "execution_count": null,
   "id": "e78bdbc4",
   "metadata": {},
   "outputs": [],
   "source": []
  },
  {
   "cell_type": "code",
   "execution_count": null,
   "id": "239feeb6",
   "metadata": {},
   "outputs": [],
   "source": []
  }
 ],
 "metadata": {
  "kernelspec": {
   "display_name": "Python 3 (ipykernel)",
   "language": "python",
   "name": "python3"
  },
  "language_info": {
   "codemirror_mode": {
    "name": "ipython",
    "version": 3
   },
   "file_extension": ".py",
   "mimetype": "text/x-python",
   "name": "python",
   "nbconvert_exporter": "python",
   "pygments_lexer": "ipython3",
   "version": "3.11.5"
  }
 },
 "nbformat": 4,
 "nbformat_minor": 5
}
