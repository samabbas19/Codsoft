{
 "cells": [
  {
   "cell_type": "code",
   "execution_count": 3,
   "id": "8eb01f55",
   "metadata": {},
   "outputs": [],
   "source": [
    "#DIFFICULT CALCULATOR\n",
    "def add(n1,n2):\n",
    "    return n1+n2\n",
    "def subtract(n1,n2):\n",
    "    return n1-n2\n",
    "def multiply(n1,n2):\n",
    "    return n1*n2\n",
    "def divide(n1,n2):\n",
    "    return n1/n2"
   ]
  },
  {
   "cell_type": "code",
   "execution_count": 4,
   "id": "ad4d77c1",
   "metadata": {},
   "outputs": [
    {
     "name": "stdout",
     "output_type": "stream",
     "text": [
      "enter 1st number5\n",
      "enter the operation from + - * //\n",
      "enter 2nd number2\n",
      "5 / 2 = 2.5\n",
      "do you want to continue y / ny\n",
      "enter the operation from + - * /*\n",
      "enter 2nd number12\n",
      "2.5 * 12 = 30.0\n",
      "do you want to continue y / ny\n",
      "enter the operation from + - * /+30\n",
      "enter 2nd number30\n"
     ]
    },
    {
     "ename": "KeyError",
     "evalue": "'+30'",
     "output_type": "error",
     "traceback": [
      "\u001b[1;31m---------------------------------------------------------------------------\u001b[0m",
      "\u001b[1;31mKeyError\u001b[0m                                  Traceback (most recent call last)",
      "Cell \u001b[1;32mIn[4], line 25\u001b[0m\n\u001b[0;32m     22\u001b[0m op \u001b[38;5;241m=\u001b[39m \u001b[38;5;28minput\u001b[39m(\u001b[38;5;124mf\u001b[39m\u001b[38;5;124m\"\u001b[39m\u001b[38;5;124menter the operation from \u001b[39m\u001b[38;5;132;01m{\u001b[39;00mkey\u001b[38;5;132;01m}\u001b[39;00m\u001b[38;5;124m\"\u001b[39m)\n\u001b[0;32m     23\u001b[0m num2 \u001b[38;5;241m=\u001b[39m \u001b[38;5;28mint\u001b[39m(\u001b[38;5;28minput\u001b[39m(\u001b[38;5;124m\"\u001b[39m\u001b[38;5;124menter 2nd number\u001b[39m\u001b[38;5;124m\"\u001b[39m))\n\u001b[1;32m---> 25\u001b[0m fun \u001b[38;5;241m=\u001b[39m calc[op]\n\u001b[0;32m     26\u001b[0m answer \u001b[38;5;241m=\u001b[39m fun(num1,num2)\n\u001b[0;32m     27\u001b[0m \u001b[38;5;28mprint\u001b[39m(\u001b[38;5;124mf\u001b[39m\u001b[38;5;124m\"\u001b[39m\u001b[38;5;132;01m{\u001b[39;00mnum1\u001b[38;5;132;01m}\u001b[39;00m\u001b[38;5;124m \u001b[39m\u001b[38;5;132;01m{\u001b[39;00mop\u001b[38;5;132;01m}\u001b[39;00m\u001b[38;5;124m \u001b[39m\u001b[38;5;132;01m{\u001b[39;00mnum2\u001b[38;5;132;01m}\u001b[39;00m\u001b[38;5;124m = \u001b[39m\u001b[38;5;132;01m{\u001b[39;00manswer\u001b[38;5;132;01m}\u001b[39;00m\u001b[38;5;124m\"\u001b[39m)\n",
      "\u001b[1;31mKeyError\u001b[0m: '+30'"
     ]
    }
   ],
   "source": [
    "#with dict\n",
    "\n",
    "calc = { '+':add,\n",
    "        '-':subtract,\n",
    "        '*':multiply,\n",
    "        '/':divide ,} \n",
    "\n",
    "key = [i for i in calc] \n",
    "key=\" \".join(key)\n",
    "\n",
    "num1 = int(input(\"enter 1st number\"))\n",
    "op = input(f\"enter the operation from {key}\")\n",
    "num2 = int(input(\"enter 2nd number\"))\n",
    "\n",
    "fun = calc[op]\n",
    "answer = fun(num1,num2)\n",
    "print(f\"{num1} {op} {num2} = {answer}\")\n",
    "\n",
    "c1=input(\"do you want to continue y / n\")\n",
    "while(c1 =='y'):\n",
    "    num1=answer\n",
    "    op = input(f\"enter the operation from {key}\")\n",
    "    num2 = int(input(\"enter 2nd number\"))\n",
    "\n",
    "    fun = calc[op]\n",
    "    answer = fun(num1,num2)\n",
    "    print(f\"{num1} {op} {num2} = {answer}\")\n",
    "    c1=input(\"do you want to continue y / n\")"
   ]
  },
  {
   "cell_type": "code",
   "execution_count": null,
   "id": "844717b7",
   "metadata": {},
   "outputs": [],
   "source": []
  }
 ],
 "metadata": {
  "kernelspec": {
   "display_name": "Python 3 (ipykernel)",
   "language": "python",
   "name": "python3"
  },
  "language_info": {
   "codemirror_mode": {
    "name": "ipython",
    "version": 3
   },
   "file_extension": ".py",
   "mimetype": "text/x-python",
   "name": "python",
   "nbconvert_exporter": "python",
   "pygments_lexer": "ipython3",
   "version": "3.11.5"
  }
 },
 "nbformat": 4,
 "nbformat_minor": 5
}
